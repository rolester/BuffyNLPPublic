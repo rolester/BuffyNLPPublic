{
 "cells": [
  {
   "cell_type": "code",
   "execution_count": 127,
   "metadata": {
    "gather": {
     "logged": 1616158180675
    }
   },
   "outputs": [],
   "source": [
    "import pandas as pd\n",
    "import numpy as np\n",
    "from sklearn.naive_bayes import MultinomialNB\n",
    "from sklearn.feature_extraction.text import TfidfTransformer, CountVectorizer\n",
    "from sklearn.metrics import mean_squared_error, r2_score\n",
    "import matplotlib.pyplot as plt"
   ]
  },
  {
   "cell_type": "code",
   "execution_count": 128,
   "metadata": {},
   "outputs": [],
   "source": [
    "#Create a function to save on code\n",
    "def getfilelistDF(location):\n",
    "    allscripts = os.listdir(location)\n",
    "    allscripts\n",
    "    filename = ''\n",
    "    dfscript = pd.DataFrame(columns = ['Label', 'Text', 'filename'])\n",
    "\n",
    "    for script in allscripts:\n",
    "        if script[-4:] == '.txt':\n",
    "            filename = script\n",
    "            raw_text = open(location + filename, 'r', encoding='utf-8').read()\n",
    "            #raw_text = raw_text.lower()\n",
    "            dfscript = dfscript.append({'Label':filename[0:4], 'Text':raw_text, 'filename':filename}, ignore_index=True)\n",
    "    return dfscript"
   ]
  },
  {
   "cell_type": "code",
   "execution_count": 129,
   "metadata": {},
   "outputs": [],
   "source": [
    "#Load in all our scripts\n",
    "dfscript = getfilelistDF(\"./BuffyScripts/\")"
   ]
  },
  {
   "cell_type": "code",
   "execution_count": 130,
   "metadata": {
    "scrolled": true
   },
   "outputs": [
    {
     "data": {
      "text/html": [
       "<div>\n",
       "<style scoped>\n",
       "    .dataframe tbody tr th:only-of-type {\n",
       "        vertical-align: middle;\n",
       "    }\n",
       "\n",
       "    .dataframe tbody tr th {\n",
       "        vertical-align: top;\n",
       "    }\n",
       "\n",
       "    .dataframe thead th {\n",
       "        text-align: right;\n",
       "    }\n",
       "</style>\n",
       "<table border=\"1\" class=\"dataframe\">\n",
       "  <thead>\n",
       "    <tr style=\"text-align: right;\">\n",
       "      <th></th>\n",
       "      <th>Label</th>\n",
       "      <th>Text</th>\n",
       "      <th>filename</th>\n",
       "    </tr>\n",
       "  </thead>\n",
       "  <tbody>\n",
       "    <tr>\n",
       "      <th>0</th>\n",
       "      <td>1x01</td>\n",
       "      <td>F.D. » Transcripts » TV &amp; Movie Transcripts » ...</td>\n",
       "      <td>1x01 Welcome to the Hellmouth.txt</td>\n",
       "    </tr>\n",
       "    <tr>\n",
       "      <th>1</th>\n",
       "      <td>1x02</td>\n",
       "      <td>F.D. » Transcripts » TV &amp; Movie Transcripts » ...</td>\n",
       "      <td>1x02 The Harvest.txt</td>\n",
       "    </tr>\n",
       "    <tr>\n",
       "      <th>2</th>\n",
       "      <td>1x03</td>\n",
       "      <td>F.D. » Transcripts » TV &amp; Movie Transcripts » ...</td>\n",
       "      <td>1x03 Witch.txt</td>\n",
       "    </tr>\n",
       "    <tr>\n",
       "      <th>3</th>\n",
       "      <td>1x04</td>\n",
       "      <td>F.D. » Transcripts » TV &amp; Movie Transcripts » ...</td>\n",
       "      <td>1x04 Teacher's Pet.txt</td>\n",
       "    </tr>\n",
       "    <tr>\n",
       "      <th>4</th>\n",
       "      <td>1x05</td>\n",
       "      <td>F.D. » Transcripts » TV &amp; Movie Transcripts » ...</td>\n",
       "      <td>1x05 Never Kill A Boy on the First Date.txt</td>\n",
       "    </tr>\n",
       "  </tbody>\n",
       "</table>\n",
       "</div>"
      ],
      "text/plain": [
       "  Label                                               Text  \\\n",
       "0  1x01  F.D. » Transcripts » TV & Movie Transcripts » ...   \n",
       "1  1x02  F.D. » Transcripts » TV & Movie Transcripts » ...   \n",
       "2  1x03  F.D. » Transcripts » TV & Movie Transcripts » ...   \n",
       "3  1x04  F.D. » Transcripts » TV & Movie Transcripts » ...   \n",
       "4  1x05  F.D. » Transcripts » TV & Movie Transcripts » ...   \n",
       "\n",
       "                                      filename  \n",
       "0            1x01 Welcome to the Hellmouth.txt  \n",
       "1                         1x02 The Harvest.txt  \n",
       "2                               1x03 Witch.txt  \n",
       "3                       1x04 Teacher's Pet.txt  \n",
       "4  1x05 Never Kill A Boy on the First Date.txt  "
      ]
     },
     "execution_count": 130,
     "metadata": {},
     "output_type": "execute_result"
    }
   ],
   "source": [
    "dfscript.head()"
   ]
  },
  {
   "cell_type": "code",
   "execution_count": 131,
   "metadata": {},
   "outputs": [],
   "source": [
    "#Load in the labels file\n",
    "dfLabels = pd.read_csv('BuffyRating.csv', encoding='utf-8')"
   ]
  },
  {
   "cell_type": "code",
   "execution_count": 132,
   "metadata": {
    "scrolled": true
   },
   "outputs": [],
   "source": [
    "#Join the two files together\n",
    "pdScriptLabel = pd.DataFrame(dfscript.join(dfLabels, lsuffix='Label', rsuffix='Episodeformat'))[:][[\"Text\",\"Rating\"]]"
   ]
  },
  {
   "cell_type": "code",
   "execution_count": 133,
   "metadata": {
    "scrolled": false
   },
   "outputs": [
    {
     "data": {
      "text/html": [
       "<div>\n",
       "<style scoped>\n",
       "    .dataframe tbody tr th:only-of-type {\n",
       "        vertical-align: middle;\n",
       "    }\n",
       "\n",
       "    .dataframe tbody tr th {\n",
       "        vertical-align: top;\n",
       "    }\n",
       "\n",
       "    .dataframe thead th {\n",
       "        text-align: right;\n",
       "    }\n",
       "</style>\n",
       "<table border=\"1\" class=\"dataframe\">\n",
       "  <thead>\n",
       "    <tr style=\"text-align: right;\">\n",
       "      <th></th>\n",
       "      <th>Text</th>\n",
       "      <th>Rating</th>\n",
       "    </tr>\n",
       "  </thead>\n",
       "  <tbody>\n",
       "    <tr>\n",
       "      <th>0</th>\n",
       "      <td>F.D. » Transcripts » TV &amp; Movie Transcripts » ...</td>\n",
       "      <td>8.2</td>\n",
       "    </tr>\n",
       "    <tr>\n",
       "      <th>1</th>\n",
       "      <td>F.D. » Transcripts » TV &amp; Movie Transcripts » ...</td>\n",
       "      <td>8.0</td>\n",
       "    </tr>\n",
       "    <tr>\n",
       "      <th>2</th>\n",
       "      <td>F.D. » Transcripts » TV &amp; Movie Transcripts » ...</td>\n",
       "      <td>7.8</td>\n",
       "    </tr>\n",
       "    <tr>\n",
       "      <th>3</th>\n",
       "      <td>F.D. » Transcripts » TV &amp; Movie Transcripts » ...</td>\n",
       "      <td>7.0</td>\n",
       "    </tr>\n",
       "    <tr>\n",
       "      <th>4</th>\n",
       "      <td>F.D. » Transcripts » TV &amp; Movie Transcripts » ...</td>\n",
       "      <td>7.5</td>\n",
       "    </tr>\n",
       "  </tbody>\n",
       "</table>\n",
       "</div>"
      ],
      "text/plain": [
       "                                                Text  Rating\n",
       "0  F.D. » Transcripts » TV & Movie Transcripts » ...     8.2\n",
       "1  F.D. » Transcripts » TV & Movie Transcripts » ...     8.0\n",
       "2  F.D. » Transcripts » TV & Movie Transcripts » ...     7.8\n",
       "3  F.D. » Transcripts » TV & Movie Transcripts » ...     7.0\n",
       "4  F.D. » Transcripts » TV & Movie Transcripts » ...     7.5"
      ]
     },
     "execution_count": 133,
     "metadata": {},
     "output_type": "execute_result"
    }
   ],
   "source": [
    "pdScriptLabel.head()"
   ]
  },
  {
   "cell_type": "code",
   "execution_count": 134,
   "metadata": {},
   "outputs": [
    {
     "data": {
      "text/plain": [
       "Text       object\n",
       "Rating    float64\n",
       "dtype: object"
      ]
     },
     "execution_count": 134,
     "metadata": {},
     "output_type": "execute_result"
    }
   ],
   "source": [
    "pdScriptLabel.dtypes"
   ]
  },
  {
   "cell_type": "code",
   "execution_count": 135,
   "metadata": {
    "scrolled": true
   },
   "outputs": [
    {
     "name": "stderr",
     "output_type": "stream",
     "text": [
      "/anaconda/envs/azureml_py36/lib/python3.6/site-packages/sklearn/neural_network/_multilayer_perceptron.py:571: ConvergenceWarning: Stochastic Optimizer: Maximum iterations (200) reached and the optimization hasn't converged yet.\n",
      "  % self.max_iter, ConvergenceWarning)\n"
     ]
    },
    {
     "name": "stdout",
     "output_type": "stream",
     "text": [
      "r2 = 0.7341711762998031\n",
      "mean_squared_error = 0.1595515214541195\n",
      "CPU times: user 22.9 s, sys: 40.1 ms, total: 23 s\n",
      "Wall time: 23.2 s\n"
     ]
    }
   ],
   "source": [
    "%%time\n",
    "#Neural Network regression\n",
    "#We should have split into text and train as the model may be overfitted\n",
    "from sklearn.neural_network import MLPRegressor\n",
    "\n",
    "from sklearn.pipeline import Pipeline\n",
    "text_clf = Pipeline([('vect', CountVectorizer(stop_words='english')),\n",
    "                      ('tfidf', TfidfTransformer()),\n",
    "                      ('clf', MLPRegressor())])\n",
    "\n",
    "text_clf = text_clf.fit(pdScriptLabel['Text'], pdScriptLabel['Rating'])\n",
    "\n",
    "predicted = text_clf.predict(pdScriptLabel['Text'])\n",
    "\n",
    "\n",
    "actual = pdScriptLabel['Rating']\n",
    "predicted = text_clf.predict(pdScriptLabel['Text'])\n",
    "\n",
    "rms = mean_squared_error(actual, predicted, squared=True)\n",
    "r2 = r2_score(actual, predicted)\n",
    "\n",
    "print(\"r2 = \" + str(r2))\n",
    "print(\"mean_squared_error = \" + str(rms))\n"
   ]
  },
  {
   "cell_type": "code",
   "execution_count": 136,
   "metadata": {
    "scrolled": true
   },
   "outputs": [
    {
     "data": {
      "text/plain": [
       "[<matplotlib.lines.Line2D at 0x7f0c8196ac88>]"
      ]
     },
     "execution_count": 136,
     "metadata": {},
     "output_type": "execute_result"
    },
    {
     "data": {
      "image/png": "[encoded data removed]",
      "text/plain": [
       "<Figure size 432x288 with 1 Axes>"
      ]
     },
     "metadata": {
      "needs_background": "light"
     },
     "output_type": "display_data"
    }
   ],
   "source": [
    "plt.plot(actual)\n",
    "plt.plot(predicted)"
   ]
  },
  {
   "cell_type": "code",
   "execution_count": 137,
   "metadata": {
    "scrolled": false
   },
   "outputs": [
    {
     "data": {
      "text/plain": [
       "[<matplotlib.lines.Line2D at 0x7f0c81c03160>]"
      ]
     },
     "execution_count": 137,
     "metadata": {},
     "output_type": "execute_result"
    },
    {
     "data": {
      "image/png": "[encoded data removed]",
      "text/plain": [
       "<Figure size 432x288 with 1 Axes>"
      ]
     },
     "metadata": {
      "needs_background": "light"
     },
     "output_type": "display_data"
    }
   ],
   "source": [
    "plt.plot(pd.DataFrame(actual).sort_values(\"Rating\").values)\n",
    "plt.plot(pd.DataFrame(predicted).sort_values(0).values)"
   ]
  },
  {
   "cell_type": "code",
   "execution_count": 138,
   "metadata": {},
   "outputs": [
    {
     "name": "stdout",
     "output_type": "stream",
     "text": [
      "Our new script will get a rating of 2.767485962460444\n"
     ]
    }
   ],
   "source": [
    "newscript = \"cut to the library. buffy is walking in. \\\n",
    "buffy: (dumbfounded) oh, god. \\\n",
    "giles: (os) oh, god. \\\n",
    "willow: (os) uh, buffy, you need to get up. \\\n",
    "buffy: i'm off. \\\n",
    "giles: (os) right. well, not till then. \\\n",
    "buffy: (os) right. it's okay. (to giles) um, i'm getting up. \\\n",
    "giles: (os) that's all. \\\n",
    "buffy: well, i'm going with you. \\\n",
    "giles: you're not going to get up till then. \\\n",
    "buffy: well, i'm sure you're not going to, you know, push yourself to... (gets up) i'm not going to, um, take on any more responsibility or responsibility to be more responsible. (gets up and leaves) \\\n",
    "giles: (os) oh, god. \\\n",
    "buffy: (os) i don't care. \\\n",
    "giles: i'm sorry. i don't understand. \\\n",
    "buffy: (to willow) i don't even understand. \\\n",
    "giles: (os) okay, i just... (stops and looks at her) i'm not making up my mind. \\\n",
    "buffy: (os) no. i'm just trying to stay focused. \\\n",
    "giles: (os) that's it.\"\n",
    "\n",
    "\n",
    "dfNEWscript = pd.DataFrame(columns = ['Text','Rating'])\n",
    "\n",
    "dfNEWscript = dfNEWscript.append({'Text':newscript, 'Rating':0}, ignore_index=True)\n",
    "\n",
    "result = text_clf.predict(dfNEWscript['Text'])\n",
    "\n",
    "print(\"Our new script will get a rating of \" + str(result[0]))"
   ]
  }
 ],
 "metadata": {
  "kernel_info": {
   "name": "python3-azureml"
  },
  "kernelspec": {
   "display_name": "Python 3.6 - AzureML",
   "language": "python",
   "name": "python3-azureml"
  },
  "language_info": {
   "codemirror_mode": {
    "name": "ipython",
    "version": 3
   },
   "file_extension": ".py",
   "mimetype": "text/x-python",
   "name": "python",
   "nbconvert_exporter": "python",
   "pygments_lexer": "ipython3",
   "version": "3.6.9"
  },
  "nteract": {
   "version": "nteract-front-end@1.0.0"
  }
 },
 "nbformat": 4,
 "nbformat_minor": 2
}
