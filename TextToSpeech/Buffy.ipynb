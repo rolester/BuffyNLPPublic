{
 "metadata": {
  "language_info": {
   "codemirror_mode": {
    "name": "ipython",
    "version": 3
   },
   "file_extension": ".py",
   "mimetype": "text/x-python",
   "name": "python",
   "nbconvert_exporter": "python",
   "pygments_lexer": "ipython3",
   "version": "3.8.5-final"
  },
  "orig_nbformat": 2,
  "kernelspec": {
   "name": "python3",
   "display_name": "Python 3",
   "language": "python"
  }
 },
 "nbformat": 4,
 "nbformat_minor": 2,
 "cells": [
  {
   "cell_type": "code",
   "execution_count": 3,
   "metadata": {},
   "outputs": [],
   "source": [
    "#pip install azure-cognitiveservices-speech"
   ]
  },
  {
   "cell_type": "code",
   "execution_count": 23,
   "metadata": {},
   "outputs": [],
   "source": [
    "from azure.cognitiveservices.speech import AudioDataStream, SpeechConfig, SpeechSynthesizer, SpeechSynthesisOutputFormat\n",
    "from azure.cognitiveservices.speech.audio import AudioOutputConfig\n",
    "import matplotlib.pyplot as plt\n",
    "from PIL import Image\n",
    "import numpy as np\n",
    "%matplotlib qt\n"
   ]
  },
  {
   "cell_type": "code",
   "execution_count": 13,
   "metadata": {},
   "outputs": [],
   "source": [
    "keyfile = open(\"subkey.key\",\"r\") \n",
    "speech_config = SpeechConfig(subscription=keyfile.readline(), region=\"westeurope\")"
   ]
  },
  {
   "cell_type": "code",
   "execution_count": 14,
   "metadata": {},
   "outputs": [],
   "source": [
    "audio_config = AudioOutputConfig(use_default_speaker=True)"
   ]
  },
  {
   "cell_type": "code",
   "execution_count": 15,
   "metadata": {},
   "outputs": [],
   "source": [
    "def showActorImage (stringin):\n",
    "    ImageAddress = stringin\n",
    "    ImageItself = Image.open(ImageAddress)\n",
    "    ImageNumpyFormat = np.asarray(ImageItself)\n",
    "    plt.imshow(ImageNumpyFormat)\n",
    "    plt.pause(.1) # pause how many seconds\n"
   ]
  },
  {
   "cell_type": "code",
   "execution_count": 16,
   "metadata": {},
   "outputs": [],
   "source": [
    "def Buffy( stringin ):\n",
    "\n",
    "    showActorImage(\"./Buffy.png\")\n",
    "\n",
    "    ssmlheadbuffy = \"<speak version=\\\"1.0\\\" xmlns=\\\"https://www.w3.org/2001/10/synthesis\\\" xmlns:mstts=\\\"https://www.w3.org/2001/mstts\\\"    xml:lang=\\\"en-US\\\">\\r<voice name=\\\"en-US-AriaNeural\\\">\\r<mstts:express-as style=\\\"cheerful\\\">\"\n",
    "    ssmltailbuffy = \"\\r</mstts:express-as>\\r</voice>\\r</speak>\"\n",
    "\n",
    "    synthesizer.speak_ssml_async(ssmlheadbuffy + stringin + ssmltailbuffy).get()\n",
    "\n",
    "    return 1;\n"
   ]
  },
  {
   "cell_type": "code",
   "execution_count": 17,
   "metadata": {},
   "outputs": [],
   "source": [
    "def Giles( stringin ):\n",
    "\n",
    "    showActorImage(\"./giles.jpg\")\n",
    "\n",
    "    ssmlheadgiles = \"<speak version=\\\"1.0\\\" xmlns=\\\"https://www.w3.org/2001/10/synthesis\\\" xmlns:mstts=\\\"https://www.w3.org/2001/mstts\\\" xml:lang=\\\"en-US\\\">\\r<voice name=\\\"en-GB-RyanNeural\\\">\\r\"\n",
    "    ssmltailgiles = \"\\r</voice>\\r</speak>\"\n",
    "\n",
    "    synthesizer.speak_ssml_async(ssmlheadgiles + stringin + ssmltailgiles).get()\n",
    "    return 1;\n"
   ]
  },
  {
   "cell_type": "code",
   "execution_count": 18,
   "metadata": {},
   "outputs": [],
   "source": [
    "def Willow( stringin ):\n",
    "\n",
    "    showActorImage(\"./willow.jpg\")\n",
    "\n",
    "    ssmlheadwillow = \"<speak version=\\\"1.0\\\" xmlns=\\\"https://www.w3.org/2001/10/synthesis\\\" xmlns:mstts=\\\"https://www.w3.org/2001/mstts\\\" xml:lang=\\\"en-US\\\">\\r<voice name=\\\"en-US-JennyNeural\\\">\\r<mstts:express-as style=\\\"chat\\\">\"\n",
    "    ssmltailwillow = \"\\r</mstts:express-as>\\r</voice>\\r</speak>\"\n",
    "\n",
    "    synthesizer.speak_ssml_async(ssmlheadwillow + stringin + ssmltailwillow).get()\n",
    "\n",
    "    return 1;\n"
   ]
  },
  {
   "cell_type": "code",
   "execution_count": 19,
   "metadata": {},
   "outputs": [],
   "source": [
    "def Narrator( stringin ):\n",
    "\n",
    "    showActorImage(\"./narrator.jpg\")\n",
    "\n",
    "    ssmlheadNarrator = \"<speak version=\\\"1.0\\\" xmlns=\\\"https://www.w3.org/2001/10/synthesis\\\" xmlns:mstts=\\\"https://www.w3.org/2001/mstts\\\" xml:lang=\\\"en-US\\\">\\r<voice name=\\\"en-IE-ConnorNeural\\\">\\r<mstts:express-as style=\\\"affectionate\\\">\"\n",
    "    ssmltailNarrator = \"\\r</mstts:express-as>\\r</voice>\\r</speak>\"\n",
    "\n",
    "    synthesizer.speak_ssml_async(ssmlheadNarrator + stringin + ssmltailNarrator).get()\n",
    "    return 1;"
   ]
  },
  {
   "cell_type": "code",
   "execution_count": 24,
   "metadata": {},
   "outputs": [
    {
     "output_type": "execute_result",
     "data": {
      "text/plain": [
       "1"
      ]
     },
     "metadata": {},
     "execution_count": 24
    }
   ],
   "source": [
    "synthesizer = SpeechSynthesizer(speech_config=speech_config, audio_config=audio_config)\n",
    "speech_config.set_property_by_name(\"SpeechServiceResponse_Synthesis_WordBoundaryEnabled\", \"false\")\n",
    "\n",
    "Buffy(\"Hi everyone, I am playing Buffy\")\n",
    "Giles(\"Hello, I am playing Giles\")\n",
    "Willow(\"Hey all, I am playing Willow\")\n",
    "Narrator(\"and I am the Narrator.\")\n",
    "\n",
    "Narrator(\"Cut to the library. buffy is walking in.\")\n",
    "Narrator(\"Buffy is dumbfounded.\")\n",
    "Buffy(\"oh, god!\")\n",
    "Giles(\"oh, god.\")\n",
    "Willow(\"uh, buffy, you need to get up.\")\n",
    "Buffy(\"i'm off.\")\n",
    "Giles(\"right. well, not till then.\")\n",
    "Buffy(\"right. it's okay. um, i'm getting up.\")\n",
    "Giles(\"that's all.\")\n",
    "Buffy(\"well, i'm going with you.\")\n",
    "Giles(\"you're not going to get up till then.\")\n",
    "Buffy(\" well, i'm sure you're not going to, you know, push yourself to... i'm not going to, um, take on any more responsibility or responsibility to be more responsible.\")\n",
    "Narrator(\"Buffy gets up and leaves\")\n",
    "Giles(\"oh, god.\")\n",
    "Buffy(\"i don't care.\")\n",
    "Giles(\"i'm sorry. i don't understand.\")\n",
    "Narrator(\"Buffy says to Willow.\")\n",
    "Buffy(\"i don't even understand.\")\n",
    "Giles(\"okay, i just... \")\n",
    "Narrator(\"Giles stops and looks at her\")\n",
    "Giles(\"i'm not making up my mind.\")\n",
    "Buffy(\"no. i'm just trying to stay focused.\")\n",
    "Giles(\"that's it!\")\n",
    "\n"
   ]
  },
  {
   "cell_type": "code",
   "execution_count": null,
   "metadata": {},
   "outputs": [],
   "source": []
  }
 ]
}